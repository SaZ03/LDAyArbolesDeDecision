{
 "cells": [
  {
   "cell_type": "markdown",
   "id": "1b5feec3-431a-401f-88b5-94083ff824f6",
   "metadata": {},
   "source": [
    "# LDA y Árboles de Decisión\n",
    "\n",
    "\n",
    "Dataset: datos_limpios_Coffe.csv (dataset ya preprocesado con dummies: hour_*, coffee_*, weekday_*, month_*, Card, etc.)"
   ]
  },
  {
   "cell_type": "markdown",
   "id": "8c98ebee-013d-4acc-b941-81218e8ea5eb",
   "metadata": {},
   "source": [
    "# Import y carga de datos\n",
    "\n",
    "importo las librerías necesarias y cargo el CSV limpio con el que ya había trabajado (datos_limpios_Coffe.csv)."
   ]
  },
  {
   "cell_type": "code",
   "execution_count": 7,
   "id": "e4740d73-01c1-4a21-848b-75657989b0f5",
   "metadata": {},
   "outputs": [
    {
     "data": {
      "text/plain": [
       "((3547, 44),\n",
       " ['money',\n",
       "  'year_2025',\n",
       "  'hour_6',\n",
       "  'hour_7',\n",
       "  'hour_8',\n",
       "  'hour_9',\n",
       "  'hour_10',\n",
       "  'hour_11',\n",
       "  'hour_12',\n",
       "  'hour_13',\n",
       "  'hour_14',\n",
       "  'hour_15',\n",
       "  'hour_16',\n",
       "  'hour_17',\n",
       "  'hour_18',\n",
       "  'hour_19',\n",
       "  'hour_20',\n",
       "  'hour_21',\n",
       "  'hour_22',\n",
       "  'Card',\n",
       "  'coffee_Americano with Milk',\n",
       "  'coffee_Cappuccino',\n",
       "  'coffee_Cocoa',\n",
       "  'coffee_Cortado',\n",
       "  'coffee_Espresso',\n",
       "  'coffee_Hot Chocolate',\n",
       "  'coffee_Latte',\n",
       "  'weekday_Mon',\n",
       "  'weekday_Sat',\n",
       "  'weekday_Sun',\n",
       "  'weekday_Thu',\n",
       "  'weekday_Tue',\n",
       "  'weekday_Wed',\n",
       "  'month_Aug',\n",
       "  'month_Dec',\n",
       "  'month_Feb',\n",
       "  'month_Jan',\n",
       "  'month_Jul',\n",
       "  'month_Jun',\n",
       "  'month_Mar',\n",
       "  'month_May',\n",
       "  'month_Nov',\n",
       "  'month_Oct',\n",
       "  'month_Sep'])"
      ]
     },
     "execution_count": 7,
     "metadata": {},
     "output_type": "execute_result"
    }
   ],
   "source": [
    "# Código: imports y carga\n",
    "import pandas as pd\n",
    "import numpy as np\n",
    "import matplotlib.pyplot as plt\n",
    "import seaborn as sns\n",
    "\n",
    "# Modelado y métricas\n",
    "import statsmodels.api as sm\n",
    "from sklearn.model_selection import train_test_split, cross_val_score, LeaveOneOut\n",
    "from sklearn.preprocessing import StandardScaler\n",
    "from sklearn.discriminant_analysis import LinearDiscriminantAnalysis as LDA\n",
    "from sklearn.tree import DecisionTreeClassifier, plot_tree\n",
    "from sklearn.metrics import (\n",
    "    confusion_matrix, classification_report, accuracy_score, precision_score,\n",
    "    recall_score, f1_score, roc_curve, roc_auc_score\n",
    ")\n",
    "\n",
    "# Cargar datos (archivo que ya tienes)\n",
    "df = pd.read_csv(\"datos_limpios_Coffe.csv\")\n",
    "df.shape, df.columns.tolist()\n"
   ]
  },
  {
   "cell_type": "markdown",
   "id": "d0a26632-2db3-4729-95b8-3ccd435ab0c6",
   "metadata": {},
   "source": [
    "# Definir variable objetivo (High_Sale) y EDA rápido\n",
    "Defino la variable objetivo High_Sale como 1 si money > mediana y 0 en caso contrario (como ya lo trabajé en el trabajo anterior). Muestro las proporciones para comprobar el balance."
   ]
  },
  {
   "cell_type": "code",
   "execution_count": 8,
   "id": "b325d871-6d0b-40f6-98f9-bb3e797a60af",
   "metadata": {},
   "outputs": [
    {
     "name": "stdout",
     "output_type": "stream",
     "text": [
      "Umbral (mediana) money: 32.82\n",
      "\n",
      "Distribución de clases (High_Sale):\n",
      "High_Sale\n",
      "0    2081\n",
      "1    1466\n",
      "Name: count, dtype: int64\n",
      "\n",
      "Proporciones:\n",
      "High_Sale\n",
      "0    0.586693\n",
      "1    0.413307\n",
      "Name: proportion, dtype: float64\n"
     ]
    }
   ],
   "source": [
    "df = df.copy()\n",
    "\n",
    "umbral = df['money'].median() \n",
    "df['High_Sale'] = (df['money'] > umbral).astype(int)\n",
    "\n",
    "print(\"Umbral (mediana) money:\", umbral)\n",
    "print(\"\\nDistribución de clases (High_Sale):\")\n",
    "print(df['High_Sale'].value_counts())\n",
    "print(\"\\nProporciones:\")\n",
    "print(df['High_Sale'].value_counts(normalize=True))\n"
   ]
  },
  {
   "cell_type": "markdown",
   "id": "89eb3074-dac2-414b-af1c-93e154a8f1a0",
   "metadata": {},
   "source": [
    "# Separar datos en entrenamiento y prueba\n",
    "Separo la base de datos en 80/20. Uso stratify=y para mantener balance de clases. Imprimo conteos para demostrar que la separación de datos es similar."
   ]
  },
  {
   "cell_type": "code",
   "execution_count": 10,
   "id": "1db2ff0d-5e97-4673-9e97-0f914ee88beb",
   "metadata": {},
   "outputs": [
    {
     "name": "stdout",
     "output_type": "stream",
     "text": [
      "Tamaños: X_train, X_test = (2837, 43) (710, 43)\n",
      "\n",
      "Proporción original:\n",
      " High_Sale\n",
      "0    0.586693\n",
      "1    0.413307\n",
      "Name: proportion, dtype: float64\n",
      "\n",
      "Proporción en entrenamiento:\n",
      " High_Sale\n",
      "0    0.586535\n",
      "1    0.413465\n",
      "Name: proportion, dtype: float64\n",
      "\n",
      "Proporción en prueba:\n",
      " High_Sale\n",
      "0    0.587324\n",
      "1    0.412676\n",
      "Name: proportion, dtype: float64\n"
     ]
    }
   ],
   "source": [
    "X = df.drop(columns=['money', 'High_Sale'])\n",
    "y = df['High_Sale']\n",
    "X_train, X_test, y_train, y_test = train_test_split( X, y, test_size=0.2, stratify=y, random_state=42 )\n",
    "print(\"Tamaños: X_train, X_test =\", X_train.shape, X_test.shape) \n",
    "print(\"\\nProporción original:\\n\", y.value_counts(normalize=True)) \n",
    "print(\"\\nProporción en entrenamiento:\\n\", y_train.value_counts(normalize=True)) \n",
    "print(\"\\nProporción en prueba:\\n\", y_test.value_counts(normalize=True))"
   ]
  },
  {
   "cell_type": "markdown",
   "id": "46d089e3-36c7-4dff-97af-21bf5ac0d62b",
   "metadata": {},
   "source": [
    "# Regresión logística con GLM (statsmodels) usando todas las variables\n",
    "Ajusto un GLM Binomial (logit) con todas las variables predictoras. Imprimo el summary() para ver p-values y coeficientes."
   ]
  },
  {
   "cell_type": "code",
   "execution_count": 11,
   "id": "cf7dbeb6-48ed-49fb-bb5b-b2f784f88245",
   "metadata": {},
   "outputs": [
    {
     "name": "stderr",
     "output_type": "stream",
     "text": [
      "C:\\Users\\sergi\\OneDrive\\Escritorio\\Lib\\site-packages\\statsmodels\\genmod\\families\\links.py:198: RuntimeWarning: overflow encountered in exp\n",
      "  t = np.exp(-z)\n"
     ]
    },
    {
     "name": "stdout",
     "output_type": "stream",
     "text": [
      "                 Generalized Linear Model Regression Results                  \n",
      "==============================================================================\n",
      "Dep. Variable:              High_Sale   No. Observations:                 2837\n",
      "Model:                            GLM   Df Residuals:                     2795\n",
      "Model Family:                Binomial   Df Model:                           41\n",
      "Link Function:                  Logit   Scale:                          1.0000\n",
      "Method:                          IRLS   Log-Likelihood:                    nan\n",
      "Date:                Thu, 02 Oct 2025   Deviance:                       2763.1\n",
      "Time:                        00:22:13   Pearson chi2:                 1.35e+17\n",
      "No. Iterations:                    40   Pseudo R-squ. (CS):                nan\n",
      "Covariance Type:            nonrobust                                         \n",
      "==============================================================================================\n",
      "                                 coef    std err          z      P>|z|      [0.025      0.975]\n",
      "----------------------------------------------------------------------------------------------\n",
      "const                      -1.671e+26   2.61e+20  -6.41e+05      0.000   -1.67e+26   -1.67e+26\n",
      "year_2025                  -2.495e+15   7.14e+06  -3.49e+08      0.000    -2.5e+15    -2.5e+15\n",
      "hour_6                     -9.507e+24   1.48e+19  -6.41e+05      0.000   -9.51e+24   -9.51e+24\n",
      "hour_7                     -9.507e+24   1.48e+19  -6.41e+05      0.000   -9.51e+24   -9.51e+24\n",
      "hour_8                     -9.507e+24   1.48e+19  -6.41e+05      0.000   -9.51e+24   -9.51e+24\n",
      "hour_9                     -9.507e+24   1.48e+19  -6.41e+05      0.000   -9.51e+24   -9.51e+24\n",
      "hour_10                    -9.507e+24   1.48e+19  -6.41e+05      0.000   -9.51e+24   -9.51e+24\n",
      "hour_11                    -9.507e+24   1.48e+19  -6.41e+05      0.000   -9.51e+24   -9.51e+24\n",
      "hour_12                    -9.507e+24   1.48e+19  -6.41e+05      0.000   -9.51e+24   -9.51e+24\n",
      "hour_13                    -9.507e+24   1.48e+19  -6.41e+05      0.000   -9.51e+24   -9.51e+24\n",
      "hour_14                    -9.507e+24   1.48e+19  -6.41e+05      0.000   -9.51e+24   -9.51e+24\n",
      "hour_15                    -9.507e+24   1.48e+19  -6.41e+05      0.000   -9.51e+24   -9.51e+24\n",
      "hour_16                    -9.507e+24   1.48e+19  -6.41e+05      0.000   -9.51e+24   -9.51e+24\n",
      "hour_17                    -9.507e+24   1.48e+19  -6.41e+05      0.000   -9.51e+24   -9.51e+24\n",
      "hour_18                    -9.507e+24   1.48e+19  -6.41e+05      0.000   -9.51e+24   -9.51e+24\n",
      "hour_19                    -9.507e+24   1.48e+19  -6.41e+05      0.000   -9.51e+24   -9.51e+24\n",
      "hour_20                    -9.507e+24   1.48e+19  -6.41e+05      0.000   -9.51e+24   -9.51e+24\n",
      "hour_21                    -9.507e+24   1.48e+19  -6.41e+05      0.000   -9.51e+24   -9.51e+24\n",
      "hour_22                    -9.507e+24   1.48e+19  -6.41e+05      0.000   -9.51e+24   -9.51e+24\n",
      "Card                        1.766e+26   2.76e+20   6.41e+05      0.000    1.77e+26    1.77e+26\n",
      "coffee_Americano with Milk  3.354e+15   4.26e+06   7.87e+08      0.000    3.35e+15    3.35e+15\n",
      "coffee_Cappuccino           6.288e+15   4.75e+06   1.32e+09      0.000    6.29e+15    6.29e+15\n",
      "coffee_Cocoa                6.379e+15   5.96e+06   1.07e+09      0.000    6.38e+15    6.38e+15\n",
      "coffee_Cortado              7.143e+14   5.57e+06   1.28e+08      0.000    7.14e+14    7.14e+14\n",
      "coffee_Espresso             5.678e+14   7.41e+06   7.66e+07      0.000    5.68e+14    5.68e+14\n",
      "coffee_Hot Chocolate        6.231e+15   5.77e+06   1.08e+09      0.000    6.23e+15    6.23e+15\n",
      "coffee_Latte                6.271e+15   4.33e+06   1.45e+09      0.000    6.27e+15    6.27e+15\n",
      "weekday_Mon                 1.824e+14   4.61e+06   3.96e+07      0.000    1.82e+14    1.82e+14\n",
      "weekday_Sat                 5.269e+13   4.81e+06    1.1e+07      0.000    5.27e+13    5.27e+13\n",
      "weekday_Sun                 8.639e+13   5.05e+06   1.71e+07      0.000    8.64e+13    8.64e+13\n",
      "weekday_Thu                -3.877e+13   4.74e+06  -8.19e+06      0.000   -3.88e+13   -3.88e+13\n",
      "weekday_Tue                -1.274e+14   4.61e+06  -2.76e+07      0.000   -1.27e+14   -1.27e+14\n",
      "weekday_Wed                -1.122e+14    4.7e+06  -2.39e+07      0.000   -1.12e+14   -1.12e+14\n",
      "month_Aug                  -3.786e+15   7.23e+06  -5.24e+08      0.000   -3.79e+15   -3.79e+15\n",
      "month_Dec                  -9.095e+14   7.36e+06  -1.24e+08      0.000   -9.09e+14   -9.09e+14\n",
      "month_Feb                   1.557e+15   9.73e+06    1.6e+08      0.000    1.56e+15    1.56e+15\n",
      "month_Jan                   1.648e+15   1.04e+07   1.58e+08      0.000    1.65e+15    1.65e+15\n",
      "month_Jul                  -3.509e+15   7.48e+06  -4.69e+08      0.000   -3.51e+15   -3.51e+15\n",
      "month_Jun                  -8.356e+14    7.5e+06  -1.11e+08      0.000   -8.36e+14   -8.36e+14\n",
      "month_Mar                   1.621e+15   7.86e+06   2.06e+08      0.000    1.62e+15    1.62e+15\n",
      "month_May                  -7.497e+14   7.38e+06  -1.02e+08      0.000    -7.5e+14    -7.5e+14\n",
      "month_Nov                  -1.033e+15   7.39e+06   -1.4e+08      0.000   -1.03e+15   -1.03e+15\n",
      "month_Oct                  -8.284e+14   6.71e+06  -1.24e+08      0.000   -8.28e+14   -8.28e+14\n",
      "month_Sep                  -3.449e+15   6.98e+06  -4.94e+08      0.000   -3.45e+15   -3.45e+15\n",
      "==============================================================================================\n"
     ]
    },
    {
     "name": "stderr",
     "output_type": "stream",
     "text": [
      "C:\\Users\\sergi\\OneDrive\\Escritorio\\Lib\\site-packages\\statsmodels\\genmod\\families\\family.py:1056: RuntimeWarning: divide by zero encountered in log\n",
      "  special.gammaln(n - y + 1) + y * np.log(mu / (1 - mu + 1e-20)) +\n",
      "C:\\Users\\sergi\\OneDrive\\Escritorio\\Lib\\site-packages\\statsmodels\\genmod\\families\\family.py:1056: RuntimeWarning: invalid value encountered in multiply\n",
      "  special.gammaln(n - y + 1) + y * np.log(mu / (1 - mu + 1e-20)) +\n"
     ]
    }
   ],
   "source": [
    "X_train_sm = sm.add_constant(X_train, has_constant='add')\n",
    "glm_model = sm.GLM(y_train, X_train_sm, family=sm.families.Binomial()) \n",
    "glm_results = glm_model.fit()\n",
    "print(glm_results.summary())"
   ]
  },
  {
   "cell_type": "markdown",
   "id": "8ff0313e-945d-4f7f-88e7-07488bb3d1c1",
   "metadata": {},
   "source": [
    "# Selección de las 2 variables más relevantes\n",
    "Uso los p-values del GLM para seleccionar las 2 variables con menor p-value (más significativas). Guardo esas dos columnas y las uso después."
   ]
  },
  {
   "cell_type": "code",
   "execution_count": 12,
   "id": "14730fcf-fb2e-406c-8ad6-57fc9f36dc9d",
   "metadata": {},
   "outputs": [
    {
     "name": "stdout",
     "output_type": "stream",
     "text": [
      "Top 2 variables por p-value: ['year_2025', 'hour_6']\n"
     ]
    },
    {
     "data": {
      "text/plain": [
       "((2837, 2), (710, 2))"
      ]
     },
     "execution_count": 12,
     "metadata": {},
     "output_type": "execute_result"
    }
   ],
   "source": [
    "pvalues = glm_results.pvalues.drop('const', errors='ignore') \n",
    "top2_vars = pvalues.nsmallest(2).index.tolist() \n",
    "print(\"Top 2 variables por p-value:\", top2_vars) \n",
    "\n",
    "X_train_sel = X_train[top2_vars].copy() \n",
    "X_test_sel = X_test[top2_vars].copy() \n",
    "X_train_sel.shape, X_test_sel.shape"
   ]
  },
  {
   "cell_type": "markdown",
   "id": "93ff79f9-6b3c-437d-9fa5-99d8bd4d8969",
   "metadata": {},
   "source": [
    "# Escalado\n",
    "Muchos modelos (especialmente LDA) requieren escalado para interpretar las direcciones; escalo las dos variables usando StandardScaler ajustado solo en X_train_sel."
   ]
  },
  {
   "cell_type": "code",
   "execution_count": 15,
   "id": "1ca206f8-dead-47e4-9051-89e1488badec",
   "metadata": {},
   "outputs": [
    {
     "name": "stdout",
     "output_type": "stream",
     "text": [
      "Media (train) después de escalar (debe ~0):\n",
      " year_2025   -0.0\n",
      "hour_6       0.0\n",
      "dtype: float64\n",
      "Std (train) después de escalar (debe ~1):\n",
      " year_2025    1.0002\n",
      "hour_6       1.0002\n",
      "dtype: float64\n"
     ]
    }
   ],
   "source": [
    "scaler = StandardScaler().fit(X_train_sel)\n",
    "X_train_scaled = pd.DataFrame(scaler.transform(X_train_sel), columns=top2_vars, index=X_train_sel.index)\n",
    "X_test_scaled = pd.DataFrame(scaler.transform(X_test_sel), columns=top2_vars, index=X_test_sel.index)\n",
    "\n",
    "\n",
    "print(\"Media (train) después de escalar (debe ~0):\\n\", X_train_scaled.mean().round(4)) \n",
    "print(\"Std (train) después de escalar (debe ~1):\\n\", X_train_scaled.std().round(4))"
   ]
  },
  {
   "cell_type": "markdown",
   "id": "1f2d9a01-9b77-41e4-8232-396645786ab3",
   "metadata": {},
   "source": [
    "# Modelo LDA (entrenar y evaluar) + visualización de la función discriminante\n",
    "Ajusto LDA sobre X_train_scaled y muestro la partición/frontera discriminante sobre el espacio de las dos variables. También calculo predicciones en test y muestro métricas básicas."
   ]
  },
  {
   "cell_type": "code",
   "execution_count": 32,
   "id": "cc520137-e0ea-4bff-a62a-957598e39ef2",
   "metadata": {},
   "outputs": [
    {
     "name": "stdout",
     "output_type": "stream",
     "text": [
      "LDA - F1 (5-fold CV, train): 0.0 ± 0.0\n",
      "\n",
      "LDA - classification report (test):\n",
      "              precision    recall  f1-score   support\n",
      "\n",
      "           0       0.59      1.00      0.74       417\n",
      "           1       0.00      0.00      0.00       293\n",
      "\n",
      "    accuracy                           0.59       710\n",
      "   macro avg       0.29      0.50      0.37       710\n",
      "weighted avg       0.34      0.59      0.43       710\n",
      "\n"
     ]
    },
    {
     "data": {
      "image/png": "[encoded data removed]",
      "text/plain": [
       "<Figure size 640x480 with 1 Axes>"
      ]
     },
     "metadata": {},
     "output_type": "display_data"
    }
   ],
   "source": [
    "from sklearn.discriminant_analysis import LinearDiscriminantAnalysis as LDA\n",
    "from sklearn.model_selection import cross_val_score, StratifiedKFold\n",
    "from sklearn.metrics import classification_report\n",
    "from sklearn.inspection import DecisionBoundaryDisplay\n",
    "\n",
    "# ======================\n",
    "# 1. Entrenamiento con K-Fold CV\n",
    "# ======================\n",
    "lda = LDA()\n",
    "kf = StratifiedKFold(n_splits=5, shuffle=True, random_state=42)\n",
    "\n",
    "scores = cross_val_score(lda, X_train_scaled, y_train, cv=kf, scoring=\"f1\")\n",
    "print(\"LDA - F1 (5-fold CV, train):\", scores.mean(), \"±\", scores.std())\n",
    "\n",
    "# Entrenamos el modelo final sobre el train\n",
    "lda.fit(X_train_scaled, y_train)\n",
    "\n",
    "# ======================\n",
    "# 2. Evaluación en el set de test\n",
    "# ======================\n",
    "y_pred_lda = lda.predict(X_test_scaled) \n",
    "y_proba_lda = lda.predict_proba(X_test_scaled)[:, 1]\n",
    "\n",
    "print(\"\\nLDA - classification report (test):\") \n",
    "print(classification_report(y_test, y_pred_lda, zero_division=0))\n",
    "\n",
    "# ======================\n",
    "# 3. Gráfica: frontera con train + test\n",
    "# ======================\n",
    "disp = DecisionBoundaryDisplay.from_estimator(\n",
    "    lda, X_train_scaled, response_method=\"predict\", alpha=0.3\n",
    ")\n",
    "\n",
    "# Puntos de train\n",
    "plt.scatter(\n",
    "    X_train_scaled.iloc[:,0], X_train_scaled.iloc[:,1],\n",
    "    c=y_train, edgecolor='k', cmap='bwr', alpha=0.6, label=\"Train\"\n",
    ")\n",
    "\n",
    "# Puntos de test (estrella amarilla)\n",
    "plt.scatter(\n",
    "    X_test_scaled.iloc[:,0], X_test_scaled.iloc[:,1],\n",
    "    c=y_test, edgecolor='yellow', cmap='bwr', marker='*', s=150, label=\"Test\"\n",
    ")\n",
    "\n",
    "plt.xlabel(top2_vars[0]); plt.ylabel(top2_vars[1])\n",
    "plt.title(\"LDA: frontera con train + test\")\n",
    "plt.legend()\n",
    "plt.show()\n"
   ]
  },
  {
   "cell_type": "markdown",
   "id": "fb5e71d9-1609-4879-a4f1-48592a615e01",
   "metadata": {},
   "source": [
    "# Árbol de decisión: búsqueda de ccp_alpha mediante LOOCV\n",
    "\n",
    "Para podar el árbol debo seleccionar ccp_alpha óptimo usando LOOCV (Leave-One-Out CV)."
   ]
  },
  {
   "cell_type": "code",
   "execution_count": 25,
   "id": "78ef38c6-44bf-4ac0-a5b6-6d88f62baf3f",
   "metadata": {},
   "outputs": [
    {
     "name": "stdout",
     "output_type": "stream",
     "text": [
      "Tiempo transcurrido: 01:20\n",
      "Mejor alpha (LOOCV): 0.0001 con F1 medio: 0.0\n",
      "Tiempo transcurrido: 107:02"
     ]
    }
   ],
   "source": [
    "import numpy as np\n",
    "from sklearn.tree import DecisionTreeClassifier\n",
    "from sklearn.model_selection import LeaveOneOut, cross_val_score\n",
    "import time, threading\n",
    "\n",
    "ccp_alphas = np.linspace(0.0001, 0.01, 30)\n",
    "loo = LeaveOneOut()\n",
    "best_alpha = None\n",
    "best_score = -np.inf\n",
    "\n",
    "# --- Contador de tiempo ---\n",
    "\n",
    "def contador():\n",
    "    start = time.time()\n",
    "    while True:\n",
    "        elapsed = int(time.time() - start)\n",
    "        mins, secs = divmod(elapsed, 60)\n",
    "        print(f\"Tiempo transcurrido: {mins:02d}:{secs:02d}\", end=\"\\r\")\n",
    "        time.sleep(1)\n",
    "\n",
    "thread = threading.Thread(target=contador, daemon=True)\n",
    "thread.start()\n",
    "\n",
    "# --- LOOCV ---\n",
    "\n",
    "for alpha in ccp_alphas:\n",
    "    tree = DecisionTreeClassifier(random_state=42, ccp_alpha=alpha)\n",
    "    scores = cross_val_score(tree, X_train_scaled, y_train, cv=loo, scoring=\"f1\", n_jobs=-1)\n",
    "    mean_score = scores.mean()\n",
    "    if mean_score > best_score:\n",
    "        best_score = mean_score\n",
    "        best_alpha = alpha\n",
    "\n",
    "print(\"\\nMejor alpha (LOOCV):\", best_alpha, \"con F1 medio:\", best_score)\n"
   ]
  },
  {
   "cell_type": "markdown",
   "id": "e6641624-372a-401f-9040-7a676b2398a0",
   "metadata": {},
   "source": [
    "# K-Fold Cross Validation"
   ]
  },
  {
   "cell_type": "code",
   "execution_count": 24,
   "id": "7d3bdc15-d08e-43b9-9cb9-74e3995ad75f",
   "metadata": {},
   "outputs": [
    {
     "name": "stdout",
     "output_type": "stream",
     "text": [
      "Mejor alpha (K-Fold): 0.0001 con F1 medio: 0.0\n"
     ]
    }
   ],
   "source": [
    "import numpy as np\n",
    "from sklearn.tree import DecisionTreeClassifier\n",
    "from sklearn.model_selection import KFold, cross_val_score\n",
    "\n",
    "ccp_alphas = np.linspace(0.0001, 0.01, 30)\n",
    "kf = KFold(n_splits=10, shuffle=True, random_state=42)  # 10-fold\n",
    "best_alpha = None\n",
    "best_score = -np.inf\n",
    "\n",
    "for alpha in ccp_alphas:\n",
    "    tree = DecisionTreeClassifier(random_state=42, ccp_alpha=alpha)\n",
    "    scores = cross_val_score(tree, X_train_scaled, y_train, cv=kf, scoring=\"f1\", n_jobs=-1)\n",
    "    mean_score = scores.mean()\n",
    "    if mean_score > best_score:\n",
    "        best_score = mean_score\n",
    "        best_alpha = alpha\n",
    "\n",
    "print(\"Mejor alpha (K-Fold):\", best_alpha, \"con F1 medio:\", best_score)\n"
   ]
  },
  {
   "cell_type": "markdown",
   "id": "e1fe73b2-66a8-4a25-ba32-e33d9f460fb6",
   "metadata": {},
   "source": [
    "# Árbol podado con el mejor alpha de K-Fold\n",
    "Al final estuve 5 horas corriendo el modelo de LOOCV (lo corrí y me fui a dormir) y no terminó de ejecutarse, por lo que estaré usando K Fold Cross Validation"
   ]
  },
  {
   "cell_type": "code",
   "execution_count": 27,
   "id": "2c32e22f-d4d6-441f-bdda-e4f2403b5ff1",
   "metadata": {},
   "outputs": [
    {
     "data": {
      "image/png": "[encoded data removed]",
      "text/plain": [
       "<Figure size 1000x600 with 1 Axes>"
      ]
     },
     "metadata": {},
     "output_type": "display_data"
    },
    {
     "data": {
      "image/png": "[encoded data removed]",
      "text/plain": [
       "<Figure size 640x480 with 1 Axes>"
      ]
     },
     "metadata": {},
     "output_type": "display_data"
    }
   ],
   "source": [
    "pruned_tree = DecisionTreeClassifier(random_state=42, ccp_alpha=best_alpha).fit(X_train_scaled, y_train)\n",
    "plt.figure(figsize=(10,6))\n",
    "plot_tree(pruned_tree, filled=True, feature_names=top2_vars, class_names=['Low','High'], fontsize=10)\n",
    "plt.title(\"Árbol de decisión podado (train)\") \n",
    "plt.show()\n",
    "\n",
    "from sklearn.inspection import DecisionBoundaryDisplay\n",
    "disp = DecisionBoundaryDisplay.from_estimator(pruned_tree, X_test_scaled, response_method=\"predict\", alpha=0.4)\n",
    "plt.scatter(X_test_scaled.iloc[:,0], X_test_scaled.iloc[:,1], c=y_test, edgecolor='k', cmap='bwr', alpha=0.8)\n",
    "plt.xlabel(top2_vars[0]); plt.ylabel(top2_vars[1])\n",
    "plt.title(\"Árbol: partición y puntos (test)\")\n",
    "plt.show()"
   ]
  },
  {
   "cell_type": "markdown",
   "id": "213f8b82-b775-4c56-8fcf-79dfbee9b79e",
   "metadata": {},
   "source": [
    "# Métricas completas para ambos modelos en el conjunto de prueba\n",
    "Calculo todas las métricas revisadas en clase: matriz de confusión, accuracy, precision, recall/sensitivity, specificity, f1, ROC-AUC. Las calculo para LDA y para el árbol podado."
   ]
  },
  {
   "cell_type": "code",
   "execution_count": 30,
   "id": "0ba1010c-9628-4dfe-8c71-4d43203054c8",
   "metadata": {},
   "outputs": [
    {
     "name": "stdout",
     "output_type": "stream",
     "text": [
      "LDA metrics (test):\n",
      "confusion_matrix :\n",
      " [[417   0]\n",
      " [293   0]] \n",
      "\n",
      "accuracy :\n",
      " 0.5873239436619718 \n",
      "\n",
      "precision :\n",
      " 0.0 \n",
      "\n",
      "recall/sensitivity :\n",
      " 0.0 \n",
      "\n",
      "specificity :\n",
      " 1.0 \n",
      "\n",
      "f1 :\n",
      " 0.0 \n",
      "\n",
      "roc_auc :\n",
      " 0.5120395151455628 \n",
      "\n",
      "Árbol (podado) metrics (test):\n",
      "confusion_matrix :\n",
      " [[417   0]\n",
      " [293   0]] \n",
      "\n",
      "accuracy :\n",
      " 0.5873239436619718 \n",
      "\n",
      "precision :\n",
      " 0.0 \n",
      "\n",
      "recall/sensitivity :\n",
      " 0.0 \n",
      "\n",
      "specificity :\n",
      " 1.0 \n",
      "\n",
      "f1 :\n",
      " 0.0 \n",
      "\n",
      "roc_auc :\n",
      " 0.5120395151455628 \n",
      "\n"
     ]
    }
   ],
   "source": [
    "from sklearn.metrics import (\n",
    "    confusion_matrix, accuracy_score, precision_score,\n",
    "    recall_score, f1_score, roc_auc_score\n",
    ")\n",
    "\n",
    "def metrics_all(y_true, y_pred, y_proba=None):\n",
    "    cm = confusion_matrix(y_true, y_pred)\n",
    "    tn, fp, fn, tp = cm.ravel()\n",
    "    acc = accuracy_score(y_true, y_pred)\n",
    "    prec = precision_score(y_true, y_pred, zero_division=0)\n",
    "    rec = recall_score(y_true, y_pred, zero_division=0)\n",
    "    spec = tn / (tn + fp) if (tn + fp) > 0 else 0.0\n",
    "    f1 = f1_score(y_true, y_pred, zero_division=0)\n",
    "    \n",
    "    out = {\n",
    "        \"confusion_matrix\": cm,\n",
    "        \"accuracy\": acc,\n",
    "        \"precision\": prec,\n",
    "        \"recall/sensitivity\": rec,\n",
    "        \"specificity\": spec,\n",
    "        \"f1\": f1\n",
    "    }\n",
    "    \n",
    "    if y_proba is not None:\n",
    "        roc_auc = roc_auc_score(y_true, y_proba)\n",
    "        out[\"roc_auc\"] = roc_auc\n",
    "    \n",
    "    return out\n",
    "\n",
    "metrics_lda = metrics_all(y_test, y_pred_lda, y_proba=y_proba_lda)\n",
    "print(\"LDA metrics (test):\")\n",
    "for k, v in metrics_lda.items():\n",
    "    print(k, \":\\n\", v, \"\\n\")\n",
    "\n",
    "y_pred_tree = pruned_tree.predict(X_test_scaled)\n",
    "y_proba_tree = pruned_tree.predict_proba(X_test_scaled)[:, 1]\n",
    "metrics_tree = metrics_all(y_test, y_pred_tree, y_proba=y_proba_tree)\n",
    "print(\"Árbol (podado) metrics (test):\")\n",
    "for k, v in metrics_tree.items():\n",
    "    print(k, \":\\n\", v, \"\\n\")\n"
   ]
  },
  {
   "cell_type": "markdown",
   "id": "52728ce5-fe9d-4b70-afa9-83c53b8a9a32",
   "metadata": {},
   "source": [
    "# Comparación\n",
    "\n",
    "Generalized Linear Model (Logistic Regression)\n",
    "El modelo GLM presentó inestabilidades numéricas (coeficientes extremadamente grandes, valores de nan en log-likelihood y pseudo R²). Esto indica multicolinealidad o redundancia fuerte en las variables, lo que generó un modelo poco interpretable y con problemas de ajuste.\n",
    "\n",
    "\n",
    "\n",
    "Selección de variables\n",
    "\n",
    "Al aplicar selección por p-value, se identificaron las variables year_2025 y hour_6 como más significativas. Estas se usaron en los modelos posteriores, garantizando menor complejidad.\n",
    "\n",
    "\n",
    "\n",
    "LDA (Linear Discriminant Analysis)\n",
    "\n",
    "El modelo LDA logró una accuracy ≈ 0.59 en test, pero con un desempeño muy sesgado: clasificó casi todos los casos como clase \"0\" (Low). Por ello, su recall para la clase positiva fue 0, con un F1 de 0 y un ROC AUC cercano a 0.51, equivalente a un clasificador aleatorio.\n",
    "\n",
    "\n",
    "\n",
    "Árbol de decisión podado\n",
    "\n",
    "El árbol, ajustado con ccp_alpha=0.0001 obtenido por K-Fold, presentó exactamente los mismos resultados que LDA: accuracy ≈ 0.59, recall=0, F1=0, ROC AUC ≈ 0.51. Esto confirma que el árbol no logró mejorar la separación de clases."
   ]
  },
  {
   "cell_type": "markdown",
   "id": "6c2bfd8a-5ccb-4b3f-a4e9-8b0fabe3b525",
   "metadata": {},
   "source": [
    "# Conclusiones\n",
    "\n",
    "Ambos modelos (LDA y Árbol podado) mostraron desempeño pobre: aunque lograron una precisión global cercana al 59%, esto se debe únicamente a predecir siempre la clase mayoritaria.\n",
    "\n",
    "El problema principal es el desbalance de clases (417 de clase 0 vs 293 de clase 1 en el test). Los clasificadores optaron por ignorar la clase minoritaria.\n",
    "\n",
    "El GLM falló debido a la alta dimensionalidad y correlación de las variables, resultando en estimaciones inestables.\n",
    "\n",
    "El uso de solo dos variables significativas simplificó el modelo, pero también redujo demasiado la información disponible, lo que afectó el rendimiento.\n",
    "\n",
    "\n",
    "\n",
    "Para poder mejorar la tarea lo que yo haría es: \n",
    "\n",
    "Aplicar técnicas de balanceo (SMOTE, undersampling, class weights).\n",
    "Probar modelos más robustos ante desbalance, como Random Forest con class_weight.\n",
    "Ajustar métricas de optimización hacia F1 o recall, en lugar de solo accuracy.\n",
    "\n",
    "En conclusión, con los datos actuales y sin balanceo, ningún modelo supera el desempeño de un clasificador aleatorio, lo que resalta la necesidad de trabajar el preprocesamiento y el desbalance antes de obtener resultados útiles."
   ]
  }
 ],
 "metadata": {
  "kernelspec": {
   "display_name": "Python 3 (ipykernel)",
   "language": "python",
   "name": "python3"
  },
  "language_info": {
   "codemirror_mode": {
    "name": "ipython",
    "version": 3
   },
   "file_extension": ".py",
   "mimetype": "text/x-python",
   "name": "python",
   "nbconvert_exporter": "python",
   "pygments_lexer": "ipython3",
   "version": "3.13.6"
  }
 },
 "nbformat": 4,
 "nbformat_minor": 5
}
